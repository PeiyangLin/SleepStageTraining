{
 "cells": [
  {
   "cell_type": "code",
   "execution_count": 1,
   "id": "initial_id",
   "metadata": {
    "collapsed": true,
    "ExecuteTime": {
     "end_time": "2023-08-16T11:28:53.035347900Z",
     "start_time": "2023-08-16T11:28:52.850963700Z"
    }
   },
   "outputs": [],
   "source": [
    "import numpy as np\n",
    "import pandas as pd\n",
    "import glob\n",
    "import time"
   ]
  },
  {
   "cell_type": "code",
   "execution_count": 12,
   "outputs": [],
   "source": [
    "DataPath2 = \"../../Data/insight/*night*\"\n",
    "savePath2 = \"../../Data/Slices_IS/\"\n",
    "fs = 500\n",
    "duration = 30 * fs\n",
    "sleep_dict = {\"W\": 0, \"N1\": 0, \"N2\": 1, \"N3\": 2, \"R\": 3}"
   ],
   "metadata": {
    "collapsed": false,
    "ExecuteTime": {
     "end_time": "2023-08-16T11:32:15.867935500Z",
     "start_time": "2023-08-16T11:32:15.845012200Z"
    }
   },
   "id": "769e542971f81980"
  },
  {
   "cell_type": "code",
   "execution_count": 21,
   "outputs": [],
   "source": [
    "subjects_IS = glob.glob(DataPath2)\n",
    "IS_DataPath = []\n",
    "IS_Label = []\n",
    "index = []"
   ],
   "metadata": {
    "collapsed": false,
    "ExecuteTime": {
     "end_time": "2023-08-16T11:52:08.262812100Z",
     "start_time": "2023-08-16T11:52:08.250851300Z"
    }
   },
   "id": "b8f3175a59d5ddbe"
  },
  {
   "cell_type": "code",
   "execution_count": 22,
   "outputs": [],
   "source": [
    "for name in subjects_IS[:-3]:\n",
    "    indx = name.split(\"sub\")[1][:2]\n",
    "    index.append(indx)\n",
    "    IS_DataPath.append(name + \"/sub%s_night_eeg_data.npy\" % indx)\n",
    "    IS_Label.append(name + \"/hypno_30s.csv\")"
   ],
   "metadata": {
    "collapsed": false,
    "ExecuteTime": {
     "end_time": "2023-08-16T11:52:08.650515100Z",
     "start_time": "2023-08-16T11:52:08.638555100Z"
    }
   },
   "id": "c56dadeea774677"
  },
  {
   "cell_type": "code",
   "execution_count": 18,
   "outputs": [
    {
     "data": {
      "text/plain": "['I:/DataSets/CIBR_data/insight\\\\sub01_night/sub01_night_eeg_data.npy',\n 'I:/DataSets/CIBR_data/insight\\\\sub02_night/sub02_night_eeg_data.npy',\n 'I:/DataSets/CIBR_data/insight\\\\sub07_night/sub07_night_eeg_data.npy',\n 'I:/DataSets/CIBR_data/insight\\\\sub08_night/sub08_night_eeg_data.npy',\n 'I:/DataSets/CIBR_data/insight\\\\sub09_night/sub09_night_eeg_data.npy',\n 'I:/DataSets/CIBR_data/insight\\\\sub10_night/sub10_night_eeg_data.npy',\n 'I:/DataSets/CIBR_data/insight\\\\sub11_night/sub11_night_eeg_data.npy',\n 'I:/DataSets/CIBR_data/insight\\\\sub13_night/sub13_night_eeg_data.npy',\n 'I:/DataSets/CIBR_data/insight\\\\sub14_night/sub14_night_eeg_data.npy',\n 'I:/DataSets/CIBR_data/insight\\\\sub15_night/sub15_night_eeg_data.npy',\n 'I:/DataSets/CIBR_data/insight\\\\sub16_night/sub16_night_eeg_data.npy',\n 'I:/DataSets/CIBR_data/insight\\\\sub17_night/sub17_night_eeg_data.npy',\n 'I:/DataSets/CIBR_data/insight\\\\sub18_night/sub18_night_eeg_data.npy',\n 'I:/DataSets/CIBR_data/insight\\\\sub20_night/sub20_night_eeg_data.npy',\n 'I:/DataSets/CIBR_data/insight\\\\sub22_night/sub22_night_eeg_data.npy',\n 'I:/DataSets/CIBR_data/insight\\\\sub23_night/sub23_night_eeg_data.npy',\n 'I:/DataSets/CIBR_data/insight\\\\sub24_night/sub24_night_eeg_data.npy',\n 'I:/DataSets/CIBR_data/insight\\\\sub26_night/sub26_night_eeg_data.npy',\n 'I:/DataSets/CIBR_data/insight\\\\sub27_night/sub27_night_eeg_data.npy',\n 'I:/DataSets/CIBR_data/insight\\\\sub28_night/sub28_night_eeg_data.npy',\n 'I:/DataSets/CIBR_data/insight\\\\sub29_night/sub29_night_eeg_data.npy',\n 'I:/DataSets/CIBR_data/insight\\\\sub30_night/sub30_night_eeg_data.npy',\n 'I:/DataSets/CIBR_data/insight\\\\sub31_night/sub31_night_eeg_data.npy',\n 'I:/DataSets/CIBR_data/insight\\\\sub32_night/sub32_night_eeg_data.npy',\n 'I:/DataSets/CIBR_data/insight\\\\sub33_night/sub33_night_eeg_data.npy',\n 'I:/DataSets/CIBR_data/insight\\\\sub34_night/sub34_night_eeg_data.npy',\n 'I:/DataSets/CIBR_data/insight\\\\sub35_night/sub35_night_eeg_data.npy',\n 'I:/DataSets/CIBR_data/insight\\\\sub36_night/sub36_night_eeg_data.npy',\n 'I:/DataSets/CIBR_data/insight\\\\sub37_night/sub37_night_eeg_data.npy',\n 'I:/DataSets/CIBR_data/insight\\\\sub38_night/sub38_night_eeg_data.npy',\n 'I:/DataSets/CIBR_data/insight\\\\sub39_night/sub39_night_eeg_data.npy',\n 'I:/DataSets/CIBR_data/insight\\\\sub40_night/sub40_night_eeg_data.npy',\n 'I:/DataSets/CIBR_data/insight\\\\sub42_night/sub42_night_eeg_data.npy',\n 'I:/DataSets/CIBR_data/insight\\\\sub43_night/sub43_night_eeg_data.npy',\n 'I:/DataSets/CIBR_data/insight\\\\sub44_night/sub44_night_eeg_data.npy']"
     },
     "execution_count": 18,
     "metadata": {},
     "output_type": "execute_result"
    }
   ],
   "source": [
    "for name in range(len(IS_DataPath)):\n",
    "    time0 = time.time()\n",
    "    label_total = pd.read_csv(IS_Label[name])\n",
    "    onsets = list(label_total[\"onset\"])\n",
    "    for i in range(len(onsets)):\n",
    "        onsets[i] = int(onsets[i] * fs)\n",
    "    description = list(label_total[\"description\"])\n",
    "    for i in range(len(description)):\n",
    "        description[i] = sleep_dict[description[i]]\n",
    "\n",
    "    data = np.load(IS_DataPath[name])\n",
    "    shape = data.shape\n",
    "    count = len(description)\n",
    "    print(count)\n",
    "    \n",
    "    data_C3 = data[2]\n",
    "    data_REOG = data[6]\n",
    "    data_EMG = data[7]\n",
    "    data = np.array([data_C3, data_REOG, data_EMG])\n",
    "\n",
    "    for i in range(count):\n",
    "        data_temp = data[:, onsets[i]:onsets[i] + duration]\n",
    "        saveName = savePath2 + \"Train/%s-%04d-stage%d.npy\" % (index[name], i+1, description[i])\n",
    "        np.save(saveName, data_temp)\n",
    "    \n",
    "    print(\"Done! Use Time: %.3f\" % (time.time() - time0))\n"
   ],
   "metadata": {
    "collapsed": false,
    "ExecuteTime": {
     "end_time": "2023-08-16T11:33:25.756917200Z",
     "start_time": "2023-08-16T11:33:25.723030400Z"
    }
   },
   "id": "e03672cf2a5f6ebb"
  },
  {
   "cell_type": "code",
   "execution_count": 29,
   "outputs": [],
   "source": [
    "subjects_IS = glob.glob(DataPath2)[-3:]\n",
    "IS_DataPath = []\n",
    "IS_Label = []\n",
    "index = []\n",
    "for name in subjects_IS[-3:]:\n",
    "    indx = name.split(\"sub\")[1][:2]\n",
    "    index.append(indx)\n",
    "    IS_DataPath.append(name + \"/sub%s_night_eeg_data.npy\" % indx)\n",
    "    IS_Label.append(name + \"/hypno_30s.csv\")"
   ],
   "metadata": {
    "collapsed": false,
    "ExecuteTime": {
     "end_time": "2023-08-16T12:14:04.781691900Z",
     "start_time": "2023-08-16T12:14:04.762755600Z"
    }
   },
   "id": "2d1c32104522cede"
  },
  {
   "cell_type": "code",
   "execution_count": 30,
   "outputs": [
    {
     "data": {
      "text/plain": "['I:/DataSets/CIBR_data/insight\\\\sub42_night/sub42_night_eeg_data.npy',\n 'I:/DataSets/CIBR_data/insight\\\\sub43_night/sub43_night_eeg_data.npy',\n 'I:/DataSets/CIBR_data/insight\\\\sub44_night/sub44_night_eeg_data.npy']"
     },
     "execution_count": 30,
     "metadata": {},
     "output_type": "execute_result"
    }
   ],
   "source": [
    "IS_DataPath"
   ],
   "metadata": {
    "collapsed": false,
    "ExecuteTime": {
     "end_time": "2023-08-16T12:14:04.959099Z",
     "start_time": "2023-08-16T12:14:04.949131800Z"
    }
   },
   "id": "361e81c703dd73ea"
  },
  {
   "cell_type": "code",
   "execution_count": null,
   "outputs": [],
   "source": [
    "for name in range(len(IS_DataPath)):\n",
    "    time0 = time.time()\n",
    "    label_total = pd.read_csv(IS_Label[name])\n",
    "    onsets = list(label_total[\"onset\"])\n",
    "    for i in range(len(onsets)):\n",
    "        onsets[i] = int(onsets[i] * fs)\n",
    "    description = list(label_total[\"description\"])\n",
    "    for i in range(len(description)):\n",
    "        description[i] = sleep_dict[description[i]]\n",
    "\n",
    "    data = np.load(IS_DataPath[name])\n",
    "    shape = data.shape\n",
    "    count = len(description)\n",
    "    print(count)\n",
    "    \n",
    "    data_C3 = data[2]\n",
    "    data_REOG = data[6]\n",
    "    data_EMG = data[7]\n",
    "    data = np.array([data_C3, data_REOG, data_EMG])\n",
    "\n",
    "    for i in range(count):\n",
    "        data_temp = data[:, onsets[i]:onsets[i] + duration]\n",
    "        saveName = savePath2 + \"Test/%s-%04d-stage%d.npy\" % (index[name], i+1, description[i])\n",
    "        np.save(saveName, data_temp)\n",
    "    \n",
    "    print(\"Done! Use Time: %.3f\" % (time.time() - time0))"
   ],
   "metadata": {
    "collapsed": false
   },
   "id": "fe358025a2f89119"
  },
  {
   "cell_type": "code",
   "execution_count": 28,
   "outputs": [
    {
     "data": {
      "text/plain": "['I:/DataSets/CIBR_data/insight\\\\sub01_night',\n 'I:/DataSets/CIBR_data/insight\\\\sub02_night',\n 'I:/DataSets/CIBR_data/insight\\\\sub07_night',\n 'I:/DataSets/CIBR_data/insight\\\\sub08_night',\n 'I:/DataSets/CIBR_data/insight\\\\sub09_night',\n 'I:/DataSets/CIBR_data/insight\\\\sub10_night',\n 'I:/DataSets/CIBR_data/insight\\\\sub11_night',\n 'I:/DataSets/CIBR_data/insight\\\\sub13_night',\n 'I:/DataSets/CIBR_data/insight\\\\sub14_night',\n 'I:/DataSets/CIBR_data/insight\\\\sub15_night',\n 'I:/DataSets/CIBR_data/insight\\\\sub16_night',\n 'I:/DataSets/CIBR_data/insight\\\\sub17_night',\n 'I:/DataSets/CIBR_data/insight\\\\sub18_night',\n 'I:/DataSets/CIBR_data/insight\\\\sub20_night',\n 'I:/DataSets/CIBR_data/insight\\\\sub22_night',\n 'I:/DataSets/CIBR_data/insight\\\\sub23_night',\n 'I:/DataSets/CIBR_data/insight\\\\sub24_night',\n 'I:/DataSets/CIBR_data/insight\\\\sub26_night',\n 'I:/DataSets/CIBR_data/insight\\\\sub27_night',\n 'I:/DataSets/CIBR_data/insight\\\\sub28_night',\n 'I:/DataSets/CIBR_data/insight\\\\sub29_night',\n 'I:/DataSets/CIBR_data/insight\\\\sub30_night',\n 'I:/DataSets/CIBR_data/insight\\\\sub31_night',\n 'I:/DataSets/CIBR_data/insight\\\\sub32_night',\n 'I:/DataSets/CIBR_data/insight\\\\sub33_night',\n 'I:/DataSets/CIBR_data/insight\\\\sub34_night',\n 'I:/DataSets/CIBR_data/insight\\\\sub35_night',\n 'I:/DataSets/CIBR_data/insight\\\\sub36_night',\n 'I:/DataSets/CIBR_data/insight\\\\sub37_night',\n 'I:/DataSets/CIBR_data/insight\\\\sub38_night',\n 'I:/DataSets/CIBR_data/insight\\\\sub39_night',\n 'I:/DataSets/CIBR_data/insight\\\\sub40_night',\n 'I:/DataSets/CIBR_data/insight\\\\sub42_night',\n 'I:/DataSets/CIBR_data/insight\\\\sub43_night',\n 'I:/DataSets/CIBR_data/insight\\\\sub44_night']"
     },
     "execution_count": 28,
     "metadata": {},
     "output_type": "execute_result"
    }
   ],
   "source": [
    "glob.glob(DataPath2)"
   ],
   "metadata": {
    "collapsed": false,
    "ExecuteTime": {
     "end_time": "2023-08-16T12:13:23.709967800Z",
     "start_time": "2023-08-16T12:13:23.699004400Z"
    }
   },
   "id": "46f30a2ebd98a35a"
  },
  {
   "cell_type": "code",
   "execution_count": null,
   "outputs": [],
   "source": [
    "23 31 44"
   ],
   "metadata": {
    "collapsed": false
   },
   "id": "5e8adeb5755a19f3"
  }
 ],
 "metadata": {
  "kernelspec": {
   "display_name": "Python 3",
   "language": "python",
   "name": "python3"
  },
  "language_info": {
   "codemirror_mode": {
    "name": "ipython",
    "version": 2
   },
   "file_extension": ".py",
   "mimetype": "text/x-python",
   "name": "python",
   "nbconvert_exporter": "python",
   "pygments_lexer": "ipython2",
   "version": "2.7.6"
  }
 },
 "nbformat": 4,
 "nbformat_minor": 5
}
