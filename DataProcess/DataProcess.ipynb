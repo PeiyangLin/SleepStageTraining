{
 "cells": [
  {
   "cell_type": "code",
   "execution_count": 1,
   "id": "7d450437",
   "metadata": {
    "ExecuteTime": {
     "end_time": "2023-08-18T07:59:43.423454100Z",
     "start_time": "2023-08-18T07:59:43.131430400Z"
    }
   },
   "outputs": [],
   "source": [
    "import numpy as np\n",
    "import pandas as pd\n",
    "import glob\n",
    "import time"
   ]
  },
  {
   "cell_type": "code",
   "execution_count": 2,
   "id": "9441714d",
   "metadata": {
    "ExecuteTime": {
     "end_time": "2023-08-18T07:59:43.439401100Z",
     "start_time": "2023-08-18T07:59:43.425447400Z"
    }
   },
   "outputs": [],
   "source": [
    "DataPath1 = \"I:/DataSets/CIBR_data/FL/*\"\n",
    "DataPath2 = \"I:/DataSets/CIBR_data/insight/*\"\n",
    "savePath = \"I:/DataSets/CIBR_data/Slices_Norm_FL/\"\n",
    "fs = 500\n",
    "duration = 30 * fs\n",
    "sleep_dict = {\"W\":0, \"N1\": 0, \"N2\": 1, \"N3\": 2, \"R\": 3}"
   ]
  },
  {
   "cell_type": "code",
   "execution_count": 3,
   "id": "c602b85f",
   "metadata": {
    "ExecuteTime": {
     "end_time": "2023-08-18T07:59:43.469300800Z",
     "start_time": "2023-08-18T07:59:43.440397600Z"
    }
   },
   "outputs": [
    {
     "name": "stdout",
     "output_type": "stream",
     "text": [
      "['F3-M2' 'F4-M1' 'C3-M2' 'C4-M1' 'O1-M2' 'O2-M1' 'REOG' 'LEMG' 'REMG'\n",
      " 'LEOG']\n",
      "Pick Channel: C3-M2 REOG LEMG\n"
     ]
    }
   ],
   "source": [
    "channel = np.load('I:/DataSets/CIBR_data/FL\\\\003/003_eeg_channel.npy')\n",
    "print(channel)\n",
    "# Pick Channel: 2, 6, 7\n",
    "print(\"Pick Channel:\", channel[2], channel[6], channel[7])"
   ]
  },
  {
   "cell_type": "code",
   "execution_count": 36,
   "id": "c5df9854",
   "metadata": {
    "ExecuteTime": {
     "end_time": "2023-08-14T11:28:56.426451600Z",
     "start_time": "2023-08-14T11:28:56.415510200Z"
    }
   },
   "outputs": [],
   "source": [
    "subjects_FL = glob.glob(DataPath1)\n",
    "FL_DataPath = []\n",
    "FL_Label = []\n",
    "index = []"
   ]
  },
  {
   "cell_type": "code",
   "execution_count": 37,
   "id": "aab672ce",
   "metadata": {
    "ExecuteTime": {
     "end_time": "2023-08-14T11:28:56.832095Z",
     "start_time": "2023-08-14T11:28:56.818141800Z"
    }
   },
   "outputs": [],
   "source": [
    "for name in subjects_FL:\n",
    "    indx = name[-3:]\n",
    "    index.append(indx)\n",
    "    FL_DataPath.append(name + \"/%s_eeg_data.npy\" % indx)\n",
    "    FL_Label.append(name + \"/hypno_30s.csv\")"
   ]
  },
  {
   "cell_type": "code",
   "execution_count": 51,
   "id": "07a6a945",
   "metadata": {
    "ExecuteTime": {
     "end_time": "2023-08-14T11:32:47.636129800Z",
     "start_time": "2023-08-14T11:32:22.126457600Z"
    }
   },
   "outputs": [
    {
     "name": "stdout",
     "output_type": "stream",
     "text": [
      "809\n",
      "747\n"
     ]
    },
    {
     "ename": "OSError",
     "evalue": "problem writing element 512 to file",
     "output_type": "error",
     "traceback": [
      "\u001B[1;31m---------------------------------------------------------------------------\u001B[0m",
      "\u001B[1;31mOSError\u001B[0m                                   Traceback (most recent call last)",
      "\u001B[1;32m~\\AppData\\Local\\Temp\\ipykernel_12196\\3699622241.py\u001B[0m in \u001B[0;36m<module>\u001B[1;34m\u001B[0m\n\u001B[0;32m     21\u001B[0m         \u001B[0mdata_temp\u001B[0m \u001B[1;33m=\u001B[0m \u001B[0mdata\u001B[0m\u001B[1;33m[\u001B[0m\u001B[1;33m:\u001B[0m\u001B[1;33m,\u001B[0m \u001B[0monsets\u001B[0m\u001B[1;33m[\u001B[0m\u001B[0mi\u001B[0m\u001B[1;33m]\u001B[0m\u001B[1;33m:\u001B[0m\u001B[0monsets\u001B[0m\u001B[1;33m[\u001B[0m\u001B[0mi\u001B[0m\u001B[1;33m]\u001B[0m \u001B[1;33m+\u001B[0m \u001B[0mduration\u001B[0m\u001B[1;33m]\u001B[0m\u001B[1;33m\u001B[0m\u001B[1;33m\u001B[0m\u001B[0m\n\u001B[0;32m     22\u001B[0m         \u001B[0msaveName\u001B[0m \u001B[1;33m=\u001B[0m \u001B[0msavePath\u001B[0m \u001B[1;33m+\u001B[0m \u001B[1;34m\"%s-%04d-stage%d.npy\"\u001B[0m \u001B[1;33m%\u001B[0m \u001B[1;33m(\u001B[0m\u001B[0mindex\u001B[0m\u001B[1;33m[\u001B[0m\u001B[0mname\u001B[0m\u001B[1;33m]\u001B[0m\u001B[1;33m,\u001B[0m \u001B[0mi\u001B[0m\u001B[1;33m+\u001B[0m\u001B[1;36m1\u001B[0m\u001B[1;33m,\u001B[0m \u001B[0mdescription\u001B[0m\u001B[1;33m[\u001B[0m\u001B[0mi\u001B[0m\u001B[1;33m]\u001B[0m\u001B[1;33m)\u001B[0m\u001B[1;33m\u001B[0m\u001B[1;33m\u001B[0m\u001B[0m\n\u001B[1;32m---> 23\u001B[1;33m         \u001B[0mnp\u001B[0m\u001B[1;33m.\u001B[0m\u001B[0msave\u001B[0m\u001B[1;33m(\u001B[0m\u001B[0msaveName\u001B[0m\u001B[1;33m,\u001B[0m \u001B[0mdata_temp\u001B[0m\u001B[1;33m)\u001B[0m\u001B[1;33m\u001B[0m\u001B[1;33m\u001B[0m\u001B[0m\n\u001B[0m\u001B[0;32m     24\u001B[0m \u001B[1;33m\u001B[0m\u001B[0m\n",
      "\u001B[1;32m<__array_function__ internals>\u001B[0m in \u001B[0;36msave\u001B[1;34m(*args, **kwargs)\u001B[0m\n",
      "\u001B[1;32mD:\\ProgramData\\Anaconda3\\envs\\realtime\\lib\\site-packages\\numpy\\lib\\npyio.py\u001B[0m in \u001B[0;36msave\u001B[1;34m(file, arr, allow_pickle, fix_imports)\u001B[0m\n\u001B[0;32m    528\u001B[0m         \u001B[0marr\u001B[0m \u001B[1;33m=\u001B[0m \u001B[0mnp\u001B[0m\u001B[1;33m.\u001B[0m\u001B[0masanyarray\u001B[0m\u001B[1;33m(\u001B[0m\u001B[0marr\u001B[0m\u001B[1;33m)\u001B[0m\u001B[1;33m\u001B[0m\u001B[1;33m\u001B[0m\u001B[0m\n\u001B[0;32m    529\u001B[0m         format.write_array(fid, arr, allow_pickle=allow_pickle,\n\u001B[1;32m--> 530\u001B[1;33m                            pickle_kwargs=dict(fix_imports=fix_imports))\n\u001B[0m\u001B[0;32m    531\u001B[0m \u001B[1;33m\u001B[0m\u001B[0m\n\u001B[0;32m    532\u001B[0m \u001B[1;33m\u001B[0m\u001B[0m\n",
      "\u001B[1;32mD:\\ProgramData\\Anaconda3\\envs\\realtime\\lib\\site-packages\\numpy\\lib\\format.py\u001B[0m in \u001B[0;36mwrite_array\u001B[1;34m(fp, array, version, allow_pickle, pickle_kwargs)\u001B[0m\n\u001B[0;32m    689\u001B[0m     \u001B[1;32melse\u001B[0m\u001B[1;33m:\u001B[0m\u001B[1;33m\u001B[0m\u001B[1;33m\u001B[0m\u001B[0m\n\u001B[0;32m    690\u001B[0m         \u001B[1;32mif\u001B[0m \u001B[0misfileobj\u001B[0m\u001B[1;33m(\u001B[0m\u001B[0mfp\u001B[0m\u001B[1;33m)\u001B[0m\u001B[1;33m:\u001B[0m\u001B[1;33m\u001B[0m\u001B[1;33m\u001B[0m\u001B[0m\n\u001B[1;32m--> 691\u001B[1;33m             \u001B[0marray\u001B[0m\u001B[1;33m.\u001B[0m\u001B[0mtofile\u001B[0m\u001B[1;33m(\u001B[0m\u001B[0mfp\u001B[0m\u001B[1;33m)\u001B[0m\u001B[1;33m\u001B[0m\u001B[1;33m\u001B[0m\u001B[0m\n\u001B[0m\u001B[0;32m    692\u001B[0m         \u001B[1;32melse\u001B[0m\u001B[1;33m:\u001B[0m\u001B[1;33m\u001B[0m\u001B[1;33m\u001B[0m\u001B[0m\n\u001B[0;32m    693\u001B[0m             for chunk in numpy.nditer(\n",
      "\u001B[1;31mOSError\u001B[0m: problem writing element 512 to file"
     ]
    }
   ],
   "source": [
    "for name in range(len(FL_DataPath)):\n",
    "    time0 = time.time()\n",
    "    label_total = pd.read_csv(FL_Label[name])\n",
    "    onsets = list(label_total[\"onset\"])\n",
    "    for i in range(len(onsets)):\n",
    "        onsets[i] = int(onsets[i] * fs)\n",
    "    description = list(label_total[\"description\"])\n",
    "    for i in range(len(description)):\n",
    "        description[i] = sleep_dict[description[i]]\n",
    "\n",
    "    data = np.load(FL_DataPath[name])\n",
    "    shape = data.shape\n",
    "    count = len(description)\n",
    "    print(count)\n",
    "    \n",
    "    data_C3 = data[2]\n",
    "    data_REOG = data[6]\n",
    "    data_EMG = data[7]\n",
    "    data = np.array([data_C3, data_REOG, data_EMG])\n",
    "\n",
    "    for i in range(count):\n",
    "        data_temp = data[:, onsets[i]:onsets[i] + duration]\n",
    "        saveName = savePath + \"%s-%04d-stage%d.npy\" % (index[name], i+1, description[i])\n",
    "        np.save(saveName, data_temp)\n",
    "    \n",
    "    print(\"Done! Use Time: %.3f\" % (time.time() - time0))\n",
    "        "
   ]
  },
  {
   "cell_type": "code",
   "execution_count": 8,
   "outputs": [],
   "source": [],
   "metadata": {
    "collapsed": false,
    "ExecuteTime": {
     "end_time": "2023-08-16T11:27:09.021742400Z",
     "start_time": "2023-08-16T11:27:09.015763800Z"
    }
   },
   "id": "90d7e9de66e003f0"
  }
 ],
 "metadata": {
  "kernelspec": {
   "display_name": "realtime",
   "language": "python",
   "name": "realtime"
  },
  "language_info": {
   "codemirror_mode": {
    "name": "ipython",
    "version": 3
   },
   "file_extension": ".py",
   "mimetype": "text/x-python",
   "name": "python",
   "nbconvert_exporter": "python",
   "pygments_lexer": "ipython3",
   "version": "3.7.3"
  }
 },
 "nbformat": 4,
 "nbformat_minor": 5
}
