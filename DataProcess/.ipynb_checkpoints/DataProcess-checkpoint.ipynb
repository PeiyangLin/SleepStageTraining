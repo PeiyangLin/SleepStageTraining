{
 "cells": [
  {
   "cell_type": "code",
   "execution_count": 1,
   "id": "7d450437",
   "metadata": {},
   "outputs": [],
   "source": [
    "import numpy as np\n",
    "import pandas as pd\n",
    "import glob\n",
    "import os\n",
    "import mne\n",
    "import torch"
   ]
  },
  {
   "cell_type": "code",
   "execution_count": 2,
   "id": "9441714d",
   "metadata": {},
   "outputs": [],
   "source": [
    "DataPath1 = \"I:/DataSets/CIBR_data/FL/*\"\n",
    "DataPath2 = \"I:/DataSets/CIBR_data/insight/*\"\n",
    "fs = 500"
   ]
  },
  {
   "cell_type": "code",
   "execution_count": 18,
   "id": "c602b85f",
   "metadata": {},
   "outputs": [
    {
     "name": "stdout",
     "output_type": "stream",
     "text": [
      "Pick Channel: C3-M2 REOG LEMG\n"
     ]
    }
   ],
   "source": [
    "channel = np.load('I:/DataSets/CIBR_data/FL\\\\003/003_eeg_channel.npy')\n",
    "# Pick Channel: 2, 6, 7\n",
    "print(\"Pick Channel:\", channel[2], channel[6], channel[7])"
   ]
  },
  {
   "cell_type": "code",
   "execution_count": 4,
   "id": "c5df9854",
   "metadata": {},
   "outputs": [],
   "source": [
    "subjects_FL = glob.glob(DataPath1)\n",
    "FL_DataPath = []\n",
    "FL_Label = []"
   ]
  },
  {
   "cell_type": "code",
   "execution_count": 5,
   "id": "aab672ce",
   "metadata": {},
   "outputs": [],
   "source": [
    "for name in subjects_FL:\n",
    "    indx = name[-3:]\n",
    "    FL_DataPath.append(name + \"/%s_eeg_data.npy\" % indx)\n",
    "    FL_Label.append(name + \"/hypno_30s.csv\")"
   ]
  },
  {
   "cell_type": "code",
   "execution_count": null,
   "id": "07a6a945",
   "metadata": {},
   "outputs": [],
   "source": [
    "for name in range(len(FL_DataPath)):\n",
    "#     data = np.load('I:/DataSets/CIBR_data/FL\\\\003/003_eeg_data.npy')\n",
    "    data = np.load(FL_DataPath[name])\n",
    "    label_total = pandas\n",
    "    shape = data.shape\n",
    "    indx = "
   ]
  },
  {
   "cell_type": "code",
   "execution_count": 8,
   "id": "8c4c9e07",
   "metadata": {},
   "outputs": [
    {
     "data": {
      "text/plain": [
       "(10, 12135350)"
      ]
     },
     "execution_count": 8,
     "metadata": {},
     "output_type": "execute_result"
    }
   ],
   "source": []
  },
  {
   "cell_type": "code",
   "execution_count": 10,
   "id": "491dee10",
   "metadata": {},
   "outputs": [
    {
     "data": {
      "text/plain": [
       "24270.7"
      ]
     },
     "execution_count": 10,
     "metadata": {},
     "output_type": "execute_result"
    }
   ],
   "source": [
    "slice_num = data.shape[1] // fs\n",
    "for i in range(slice_num):\n",
    "    "
   ]
  },
  {
   "cell_type": "code",
   "execution_count": 11,
   "id": "591fb1f8",
   "metadata": {},
   "outputs": [
    {
     "name": "stdout",
     "output_type": "stream",
     "text": [
      "['F3-M2' 'F4-M1' 'C3-M2' 'C4-M1' 'O1-M2' 'O2-M1' 'REOG' 'LEMG' 'REMG'\n",
      " 'LEOG']\n"
     ]
    }
   ],
   "source": []
  },
  {
   "cell_type": "code",
   "execution_count": null,
   "id": "22f32f8d",
   "metadata": {},
   "outputs": [],
   "source": []
  }
 ],
 "metadata": {
  "kernelspec": {
   "display_name": "realtime",
   "language": "python",
   "name": "realtime"
  },
  "language_info": {
   "codemirror_mode": {
    "name": "ipython",
    "version": 3
   },
   "file_extension": ".py",
   "mimetype": "text/x-python",
   "name": "python",
   "nbconvert_exporter": "python",
   "pygments_lexer": "ipython3",
   "version": "3.7.3"
  }
 },
 "nbformat": 4,
 "nbformat_minor": 5
}
