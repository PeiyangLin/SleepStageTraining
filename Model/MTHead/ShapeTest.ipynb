{
 "cells": [
  {
   "cell_type": "code",
   "execution_count": 6,
   "id": "d83c7ad9",
   "metadata": {
    "ExecuteTime": {
     "end_time": "2023-09-15T18:22:27.854263200Z",
     "start_time": "2023-09-15T18:22:26.913410900Z"
    }
   },
   "outputs": [],
   "source": [
    "import torch\n",
    "from torch import nn\n",
    "import numpy as np"
   ]
  },
  {
   "cell_type": "code",
   "execution_count": 7,
   "id": "56709777",
   "metadata": {
    "ExecuteTime": {
     "end_time": "2023-09-15T18:22:27.870209100Z",
     "start_time": "2023-09-15T18:22:27.859245400Z"
    }
   },
   "outputs": [],
   "source": [
    "class Para_model():\n",
    "\n",
    "    def __init__(self):\n",
    "        fs = 500\n",
    "        self.conv_fs1 = {\"inchan\": 3,\n",
    "                         \"outchan\": 16,\n",
    "                         \"kernel\": int(fs / 1),\n",
    "                         \"stride\": int(fs / 8),\n",
    "                         \"padding\": 0,\n",
    "                         \"ratio\": 8}\n",
    "\n",
    "        self.conv_fs2 = {\"inchan\": 3,\n",
    "                         \"outchan\": 16,\n",
    "                         \"kernel\": int(fs / 2),\n",
    "                         \"stride\": int(fs / 8),\n",
    "                         \"padding\": 0,\n",
    "                         \"ratio\": 8}\n",
    "\n",
    "        self.conv_fs3 = {\"inchan\": 3,\n",
    "                         \"outchan\": 16,\n",
    "                         \"kernel\": int(fs / 4),\n",
    "                         \"stride\": int(fs / 8),\n",
    "                         \"padding\": 0,\n",
    "                         \"ratio\": 8}\n",
    "\n",
    "        self.conv_n1 = {\"inchan\": 16,\n",
    "                        \"outchan\": 32,\n",
    "                        \"kernel\": 10,\n",
    "                        \"stride\": 1,\n",
    "                        \"padding\": 3}\n",
    "\n",
    "        self.conv_n2 = {\"inchan\": 16,\n",
    "                        \"outchan\": 32,\n",
    "                        \"kernel\": 10,\n",
    "                        \"stride\": 1,\n",
    "                        \"padding\": 1}\n",
    "\n",
    "        self.conv_n3 = {\"inchan\": 16,\n",
    "                        \"outchan\": 32,\n",
    "                        \"kernel\": 10,\n",
    "                        \"stride\": 1,\n",
    "                        \"padding\": 0}\n",
    "\n",
    "        self.conv_s5 = {\"inchan\": 32,\n",
    "                        \"outchan\": 32,\n",
    "                        \"kernel\": 5,\n",
    "                        \"stride\": 1,\n",
    "                        \"padding\": 2}\n",
    "        \n",
    "        \n",
    "        self.conv_pool = {\"inchan\": 96,\n",
    "                         \"outchan\": 32,\n",
    "                         \"kernel\": 7,\n",
    "                         \"stride\": 7,\n",
    "                         \"padding\": 0,\n",
    "                         \"ratio\": 8}\n",
    "\n",
    "        self.conv_s1_1 = {\"inchan\": 32,\n",
    "                          \"outchan\": 64,\n",
    "                          \"kernel\": 3,\n",
    "                          \"stride\": 1,\n",
    "                          \"padding\": 1}\n",
    "\n",
    "        self.conv_s1_2 = {\"inchan\": 64,\n",
    "                          \"outchan\": 64,\n",
    "                          \"kernel\": 3,\n",
    "                          \"stride\": 1,\n",
    "                          \"padding\": 1}\n",
    "\n",
    "        self.conv_s1_3 = {\"inchan\": 64,\n",
    "                          \"outchan\": 32,\n",
    "                          \"kernel\": 3,\n",
    "                          \"stride\": 1,\n",
    "                          \"padding\": 1}\n",
    "\n",
    "        self.conv_pool2 = {\"inchan\": 32,\n",
    "                          \"outchan\": 16,\n",
    "                          \"kernel\": 5,\n",
    "                          \"stride\": 5,\n",
    "                          \"padding\": 0,\n",
    "                          \"ratio\": 8}\n",
    "\n",
    "        # Flatten\n",
    "\n",
    "        self.linear = {\"inchan\": 208,\n",
    "                       \"outchan\": 4}\n",
    "        \n",
    "P = Para_model()"
   ]
  },
  {
   "cell_type": "code",
   "execution_count": 8,
   "id": "da197478",
   "metadata": {
    "ExecuteTime": {
     "end_time": "2023-09-15T18:22:27.982833100Z",
     "start_time": "2023-09-15T18:22:27.973863300Z"
    }
   },
   "outputs": [],
   "source": [
    "class conv(nn.Module):\n",
    "\n",
    "    def __init__(self, para):\n",
    "        super(conv, self).__init__()\n",
    "        inchan = para[\"inchan\"]\n",
    "        outchan = para[\"outchan\"]\n",
    "        kernel = para[\"kernel\"]\n",
    "        padding = para[\"padding\"]\n",
    "        stride = para[\"stride\"]\n",
    "        self.conv = nn.Conv1d(in_channels=inchan, out_channels=outchan, kernel_size=kernel, padding=padding,\n",
    "                              stride=stride)\n",
    "        self.bn = nn.BatchNorm1d(num_features=outchan)\n",
    "        self.act = nn.ReLU(inplace=True)\n",
    "\n",
    "    def forward(self, X):\n",
    "        X = self.conv(X)\n",
    "        X = self.bn(X)\n",
    "        X = self.act(X)\n",
    "        return X\n",
    "\n",
    "\n",
    "class conv_SE(nn.Module):\n",
    "\n",
    "    def __init__(self, para):\n",
    "        super(conv_SE, self).__init__()\n",
    "\n",
    "        inchan = para[\"inchan\"]\n",
    "        outchan = para[\"outchan\"]\n",
    "        kernel = para[\"kernel\"]\n",
    "        stride = para[\"stride\"]\n",
    "        padding = para[\"padding\"]\n",
    "        ratio = para[\"ratio\"]\n",
    "\n",
    "        self.conv = nn.Conv1d(in_channels=inchan, out_channels=outchan, kernel_size=kernel, padding=padding,\n",
    "                              stride=stride)\n",
    "        self.bn = nn.BatchNorm1d(num_features=outchan)\n",
    "        self.act = nn.ReLU(inplace=True)\n",
    "        self.avgpool = nn.AdaptiveAvgPool1d(1)\n",
    "        self.fc = nn.Sequential(\n",
    "            nn.Linear(in_features=inchan, out_features=outchan // ratio, bias=False),\n",
    "            nn.ReLU(inplace=True),\n",
    "            nn.Linear(in_features=outchan // ratio, out_features=outchan, bias=False),\n",
    "        )\n",
    "        self.sig = nn.Sigmoid()\n",
    "        self.outchan = outchan\n",
    "\n",
    "        # nn.init.kaiming_normal_(self.conv.weight, nonlinearity=\"relu\")\n",
    "        nn.init.constant_(self.bn.weight, 0.5)\n",
    "        nn.init.zeros_(self.bn.bias)\n",
    "\n",
    "    def forward(self, X):\n",
    "        b, c, _ = X.shape\n",
    "        v = self.avgpool(X).view(b, c)\n",
    "        v = self.fc(v).view(b, self.outchan, 1)\n",
    "\n",
    "        v = self.sig(v)\n",
    "\n",
    "        X = self.conv(X)\n",
    "        X = self.bn(X)\n",
    "        X = self.act(X)\n",
    "        out = X * v\n",
    "        return out\n",
    "\n",
    "\n",
    "class conv_fs(nn.Module):\n",
    "\n",
    "    def __init__(self, para_fs, para_norm, para_series):\n",
    "        super(conv_fs, self).__init__()\n",
    "\n",
    "        self.conv_se = conv_SE(para_fs)\n",
    "        self.conv_norm = conv(para_norm)\n",
    "        self.conv_seq = nn.Sequential(conv(para_series),\n",
    "                                      conv(para_series),\n",
    "                                      conv(para_series))\n",
    "\n",
    "    def forward(self, X):\n",
    "        X = self.conv_se(X)\n",
    "        X = self.conv_norm(X)\n",
    "        output = self.conv_seq(X)\n",
    "\n",
    "        output = output + X\n",
    "\n",
    "        return output"
   ]
  },
  {
   "cell_type": "code",
   "execution_count": 9,
   "id": "cad5303f",
   "metadata": {
    "ExecuteTime": {
     "end_time": "2023-09-15T18:22:28.229009200Z",
     "start_time": "2023-09-15T18:22:28.216052700Z"
    }
   },
   "outputs": [],
   "source": [
    "conv_fs1 = conv_fs(P.conv_fs1, P.conv_n1, P.conv_s5)\n",
    "conv_fs2 = conv_fs(P.conv_fs2, P.conv_n2, P.conv_s5)\n",
    "conv_fs3 = conv_fs(P.conv_fs3, P.conv_n3, P.conv_s5)"
   ]
  },
  {
   "cell_type": "code",
   "execution_count": 10,
   "id": "3e604288",
   "metadata": {
    "ExecuteTime": {
     "end_time": "2023-09-15T18:22:28.432328800Z",
     "start_time": "2023-09-15T18:22:28.417378Z"
    }
   },
   "outputs": [
    {
     "data": {
      "text/plain": "torch.Size([100, 3, 15000])"
     },
     "execution_count": 10,
     "metadata": {},
     "output_type": "execute_result"
    }
   ],
   "source": [
    "X = torch.zeros((100, 3, 15000))\n",
    "X.shape"
   ]
  },
  {
   "cell_type": "code",
   "execution_count": 11,
   "outputs": [
    {
     "data": {
      "text/plain": "torch.Size([100, 32, 231])"
     },
     "execution_count": 11,
     "metadata": {},
     "output_type": "execute_result"
    }
   ],
   "source": [
    "X1 = conv_fs1(X)\n",
    "X1.shape"
   ],
   "metadata": {
    "collapsed": false,
    "ExecuteTime": {
     "end_time": "2023-09-15T18:22:28.618705300Z",
     "start_time": "2023-09-15T18:22:28.581828300Z"
    }
   },
   "id": "ee017f5f8fdded12"
  },
  {
   "cell_type": "code",
   "execution_count": 12,
   "outputs": [
    {
     "data": {
      "text/plain": "torch.Size([100, 32, 231])"
     },
     "execution_count": 12,
     "metadata": {},
     "output_type": "execute_result"
    }
   ],
   "source": [
    "X2 = conv_fs2(X)\n",
    "X2.shape"
   ],
   "metadata": {
    "collapsed": false,
    "ExecuteTime": {
     "end_time": "2023-09-15T18:22:28.788137700Z",
     "start_time": "2023-09-15T18:22:28.752258100Z"
    }
   },
   "id": "c46b4fb89b1bc874"
  },
  {
   "cell_type": "code",
   "execution_count": 13,
   "outputs": [
    {
     "data": {
      "text/plain": "torch.Size([100, 32, 231])"
     },
     "execution_count": 13,
     "metadata": {},
     "output_type": "execute_result"
    }
   ],
   "source": [
    "X3 = conv_fs3(X)\n",
    "X3.shape"
   ],
   "metadata": {
    "collapsed": false,
    "ExecuteTime": {
     "end_time": "2023-09-15T18:22:29.566533700Z",
     "start_time": "2023-09-15T18:22:29.522679300Z"
    }
   },
   "id": "3bb06c1f348ed36b"
  },
  {
   "cell_type": "code",
   "execution_count": 14,
   "outputs": [
    {
     "data": {
      "text/plain": "torch.Size([100, 96, 231])"
     },
     "execution_count": 14,
     "metadata": {},
     "output_type": "execute_result"
    }
   ],
   "source": [
    "X = torch.cat([X1, X2, X3], dim=1)\n",
    "X.shape"
   ],
   "metadata": {
    "collapsed": false,
    "ExecuteTime": {
     "end_time": "2023-09-15T18:22:30.063868900Z",
     "start_time": "2023-09-15T18:22:30.035961700Z"
    }
   },
   "id": "53eff24e90761db9"
  },
  {
   "cell_type": "code",
   "execution_count": 15,
   "outputs": [
    {
     "data": {
      "text/plain": "torch.Size([100, 32, 33])"
     },
     "execution_count": 15,
     "metadata": {},
     "output_type": "execute_result"
    }
   ],
   "source": [
    "conv_pool = conv_SE(P.conv_pool)\n",
    "X4 = conv_pool(X)\n",
    "X4.shape"
   ],
   "metadata": {
    "collapsed": false,
    "ExecuteTime": {
     "end_time": "2023-09-15T18:22:30.701734300Z",
     "start_time": "2023-09-15T18:22:30.664858Z"
    }
   },
   "id": "82657f5182e5115c"
  },
  {
   "cell_type": "code",
   "execution_count": 16,
   "outputs": [
    {
     "data": {
      "text/plain": "torch.Size([100, 32, 33])"
     },
     "execution_count": 16,
     "metadata": {},
     "output_type": "execute_result"
    }
   ],
   "source": [
    "conv_series = nn.Sequential(conv(P.conv_s1_1),\n",
    "                            conv(P.conv_s1_2),\n",
    "                            conv(P.conv_s1_3))\n",
    "X5 = conv_series(X4)\n",
    "X5.shape\n"
   ],
   "metadata": {
    "collapsed": false,
    "ExecuteTime": {
     "end_time": "2023-09-15T18:22:31.202060200Z",
     "start_time": "2023-09-15T18:22:31.178141Z"
    }
   },
   "id": "96b9f5bf6e233c2f"
  },
  {
   "cell_type": "code",
   "execution_count": 17,
   "outputs": [
    {
     "data": {
      "text/plain": "torch.Size([100, 16, 6])"
     },
     "execution_count": 17,
     "metadata": {},
     "output_type": "execute_result"
    }
   ],
   "source": [
    "conv_pool2 = conv_SE(P.conv_pool2)\n",
    "X6 = conv_pool2(X5)\n",
    "X6.shape"
   ],
   "metadata": {
    "collapsed": false,
    "ExecuteTime": {
     "end_time": "2023-09-15T18:22:32.764830800Z",
     "start_time": "2023-09-15T18:22:32.743900800Z"
    }
   },
   "id": "935b482abef5a946"
  },
  {
   "cell_type": "code",
   "execution_count": null,
   "outputs": [],
   "source": [],
   "metadata": {
    "collapsed": false
   },
   "id": "1f57067b244ad2d1"
  }
 ],
 "metadata": {
  "kernelspec": {
   "display_name": "realtime",
   "language": "python",
   "name": "realtime"
  },
  "language_info": {
   "codemirror_mode": {
    "name": "ipython",
    "version": 3
   },
   "file_extension": ".py",
   "mimetype": "text/x-python",
   "name": "python",
   "nbconvert_exporter": "python",
   "pygments_lexer": "ipython3",
   "version": "3.7.3"
  }
 },
 "nbformat": 4,
 "nbformat_minor": 5
}
